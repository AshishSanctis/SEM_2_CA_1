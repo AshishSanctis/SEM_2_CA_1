{
 "cells": [
  {
   "cell_type": "code",
   "execution_count": 1,
   "id": "e4a35ecb",
   "metadata": {},
   "outputs": [],
   "source": [
    "import pandas as pd\n",
    "import numpy as np\n",
    "import seaborn as sns\n",
    "import matplotlib.pyplot as plt\n",
    "import re\n",
    "import string\n",
    "from nltk.tokenize import word_tokenize\n",
    "from nltk.corpus import stopwords\n",
    "from nltk.stem import PorterStemmer\n",
    "from nltk.stem import WordNetLemmatizer\n",
    "import nltk\n",
    "from nltk.tokenize import word_tokenize\n",
    "from nltk.corpus import stopwords\n",
    "from nltk.stem import WordNetLemmatizer\n",
    "from gensim.models import Word2Vec\n",
    "import warnings\n",
    "warnings.filterwarnings(\"ignore\", category=DeprecationWarning, message=\"Downloading package\") "
   ]
  },
  {
   "cell_type": "code",
   "execution_count": 2,
   "id": "6b964ca6",
   "metadata": {},
   "outputs": [],
   "source": [
    "df=pd.read_csv(\"Desktop/amazon_review_full_csv/train.csv\")"
   ]
  },
  {
   "cell_type": "code",
   "execution_count": 3,
   "id": "0845c8aa",
   "metadata": {},
   "outputs": [
    {
     "data": {
      "text/html": [
       "<div>\n",
       "<style scoped>\n",
       "    .dataframe tbody tr th:only-of-type {\n",
       "        vertical-align: middle;\n",
       "    }\n",
       "\n",
       "    .dataframe tbody tr th {\n",
       "        vertical-align: top;\n",
       "    }\n",
       "\n",
       "    .dataframe thead th {\n",
       "        text-align: right;\n",
       "    }\n",
       "</style>\n",
       "<table border=\"1\" class=\"dataframe\">\n",
       "  <thead>\n",
       "    <tr style=\"text-align: right;\">\n",
       "      <th></th>\n",
       "      <th>3</th>\n",
       "      <th>more like funchuck</th>\n",
       "      <th>Gave this to my dad for a gag gift after directing \"Nunsense,\" he got a reall kick out of it!</th>\n",
       "    </tr>\n",
       "  </thead>\n",
       "  <tbody>\n",
       "    <tr>\n",
       "      <th>0</th>\n",
       "      <td>5</td>\n",
       "      <td>Inspiring</td>\n",
       "      <td>I hope a lot of people hear this cd. We need m...</td>\n",
       "    </tr>\n",
       "    <tr>\n",
       "      <th>1</th>\n",
       "      <td>5</td>\n",
       "      <td>The best soundtrack ever to anything.</td>\n",
       "      <td>I'm reading a lot of reviews saying that this ...</td>\n",
       "    </tr>\n",
       "    <tr>\n",
       "      <th>2</th>\n",
       "      <td>4</td>\n",
       "      <td>Chrono Cross OST</td>\n",
       "      <td>The music of Yasunori Misuda is without questi...</td>\n",
       "    </tr>\n",
       "    <tr>\n",
       "      <th>3</th>\n",
       "      <td>5</td>\n",
       "      <td>Too good to be true</td>\n",
       "      <td>Probably the greatest soundtrack in history! U...</td>\n",
       "    </tr>\n",
       "    <tr>\n",
       "      <th>4</th>\n",
       "      <td>5</td>\n",
       "      <td>There's a reason for the price</td>\n",
       "      <td>There's a reason this CD is so expensive, even...</td>\n",
       "    </tr>\n",
       "  </tbody>\n",
       "</table>\n",
       "</div>"
      ],
      "text/plain": [
       "   3                     more like funchuck  \\\n",
       "0  5                              Inspiring   \n",
       "1  5  The best soundtrack ever to anything.   \n",
       "2  4                       Chrono Cross OST   \n",
       "3  5                    Too good to be true   \n",
       "4  5         There's a reason for the price   \n",
       "\n",
       "  Gave this to my dad for a gag gift after directing \"Nunsense,\" he got a reall kick out of it!  \n",
       "0  I hope a lot of people hear this cd. We need m...                                             \n",
       "1  I'm reading a lot of reviews saying that this ...                                             \n",
       "2  The music of Yasunori Misuda is without questi...                                             \n",
       "3  Probably the greatest soundtrack in history! U...                                             \n",
       "4  There's a reason this CD is so expensive, even...                                             "
      ]
     },
     "execution_count": 3,
     "metadata": {},
     "output_type": "execute_result"
    }
   ],
   "source": [
    "df.head()"
   ]
  },
  {
   "cell_type": "code",
   "execution_count": 4,
   "id": "b563b0c3",
   "metadata": {},
   "outputs": [
    {
     "data": {
      "text/html": [
       "<div>\n",
       "<style scoped>\n",
       "    .dataframe tbody tr th:only-of-type {\n",
       "        vertical-align: middle;\n",
       "    }\n",
       "\n",
       "    .dataframe tbody tr th {\n",
       "        vertical-align: top;\n",
       "    }\n",
       "\n",
       "    .dataframe thead th {\n",
       "        text-align: right;\n",
       "    }\n",
       "</style>\n",
       "<table border=\"1\" class=\"dataframe\">\n",
       "  <thead>\n",
       "    <tr style=\"text-align: right;\">\n",
       "      <th></th>\n",
       "      <th>3</th>\n",
       "      <th>more like funchuck</th>\n",
       "      <th>Gave this to my dad for a gag gift after directing \"Nunsense,\" he got a reall kick out of it!</th>\n",
       "    </tr>\n",
       "  </thead>\n",
       "  <tbody>\n",
       "    <tr>\n",
       "      <th>2999994</th>\n",
       "      <td>1</td>\n",
       "      <td>Don't do it!!</td>\n",
       "      <td>The high chair looks great when it first comes...</td>\n",
       "    </tr>\n",
       "    <tr>\n",
       "      <th>2999995</th>\n",
       "      <td>2</td>\n",
       "      <td>Looks nice, low functionality</td>\n",
       "      <td>I have used this highchair for 2 kids now and ...</td>\n",
       "    </tr>\n",
       "    <tr>\n",
       "      <th>2999996</th>\n",
       "      <td>2</td>\n",
       "      <td>compact, but hard to clean</td>\n",
       "      <td>We have a small house, and really wanted two o...</td>\n",
       "    </tr>\n",
       "    <tr>\n",
       "      <th>2999997</th>\n",
       "      <td>3</td>\n",
       "      <td>Hard to clean!</td>\n",
       "      <td>I agree with everyone else who says this chair...</td>\n",
       "    </tr>\n",
       "    <tr>\n",
       "      <th>2999998</th>\n",
       "      <td>1</td>\n",
       "      <td>what is it saying?</td>\n",
       "      <td>not sure what this book is supposed to be. It ...</td>\n",
       "    </tr>\n",
       "  </tbody>\n",
       "</table>\n",
       "</div>"
      ],
      "text/plain": [
       "         3             more like funchuck  \\\n",
       "2999994  1                  Don't do it!!   \n",
       "2999995  2  Looks nice, low functionality   \n",
       "2999996  2     compact, but hard to clean   \n",
       "2999997  3                 Hard to clean!   \n",
       "2999998  1             what is it saying?   \n",
       "\n",
       "        Gave this to my dad for a gag gift after directing \"Nunsense,\" he got a reall kick out of it!  \n",
       "2999994  The high chair looks great when it first comes...                                             \n",
       "2999995  I have used this highchair for 2 kids now and ...                                             \n",
       "2999996  We have a small house, and really wanted two o...                                             \n",
       "2999997  I agree with everyone else who says this chair...                                             \n",
       "2999998  not sure what this book is supposed to be. It ...                                             "
      ]
     },
     "execution_count": 4,
     "metadata": {},
     "output_type": "execute_result"
    }
   ],
   "source": [
    "df.tail()"
   ]
  },
  {
   "cell_type": "code",
   "execution_count": 5,
   "id": "abf64623",
   "metadata": {},
   "outputs": [],
   "source": [
    "df.columns=['Rating', 'Title', 'Review']"
   ]
  },
  {
   "cell_type": "code",
   "execution_count": 6,
   "id": "78e3b0e2",
   "metadata": {},
   "outputs": [
    {
     "data": {
      "text/html": [
       "<div>\n",
       "<style scoped>\n",
       "    .dataframe tbody tr th:only-of-type {\n",
       "        vertical-align: middle;\n",
       "    }\n",
       "\n",
       "    .dataframe tbody tr th {\n",
       "        vertical-align: top;\n",
       "    }\n",
       "\n",
       "    .dataframe thead th {\n",
       "        text-align: right;\n",
       "    }\n",
       "</style>\n",
       "<table border=\"1\" class=\"dataframe\">\n",
       "  <thead>\n",
       "    <tr style=\"text-align: right;\">\n",
       "      <th></th>\n",
       "      <th>Rating</th>\n",
       "      <th>Title</th>\n",
       "      <th>Review</th>\n",
       "    </tr>\n",
       "  </thead>\n",
       "  <tbody>\n",
       "    <tr>\n",
       "      <th>0</th>\n",
       "      <td>5</td>\n",
       "      <td>Inspiring</td>\n",
       "      <td>I hope a lot of people hear this cd. We need m...</td>\n",
       "    </tr>\n",
       "    <tr>\n",
       "      <th>1</th>\n",
       "      <td>5</td>\n",
       "      <td>The best soundtrack ever to anything.</td>\n",
       "      <td>I'm reading a lot of reviews saying that this ...</td>\n",
       "    </tr>\n",
       "    <tr>\n",
       "      <th>2</th>\n",
       "      <td>4</td>\n",
       "      <td>Chrono Cross OST</td>\n",
       "      <td>The music of Yasunori Misuda is without questi...</td>\n",
       "    </tr>\n",
       "    <tr>\n",
       "      <th>3</th>\n",
       "      <td>5</td>\n",
       "      <td>Too good to be true</td>\n",
       "      <td>Probably the greatest soundtrack in history! U...</td>\n",
       "    </tr>\n",
       "    <tr>\n",
       "      <th>4</th>\n",
       "      <td>5</td>\n",
       "      <td>There's a reason for the price</td>\n",
       "      <td>There's a reason this CD is so expensive, even...</td>\n",
       "    </tr>\n",
       "    <tr>\n",
       "      <th>...</th>\n",
       "      <td>...</td>\n",
       "      <td>...</td>\n",
       "      <td>...</td>\n",
       "    </tr>\n",
       "    <tr>\n",
       "      <th>2999994</th>\n",
       "      <td>1</td>\n",
       "      <td>Don't do it!!</td>\n",
       "      <td>The high chair looks great when it first comes...</td>\n",
       "    </tr>\n",
       "    <tr>\n",
       "      <th>2999995</th>\n",
       "      <td>2</td>\n",
       "      <td>Looks nice, low functionality</td>\n",
       "      <td>I have used this highchair for 2 kids now and ...</td>\n",
       "    </tr>\n",
       "    <tr>\n",
       "      <th>2999996</th>\n",
       "      <td>2</td>\n",
       "      <td>compact, but hard to clean</td>\n",
       "      <td>We have a small house, and really wanted two o...</td>\n",
       "    </tr>\n",
       "    <tr>\n",
       "      <th>2999997</th>\n",
       "      <td>3</td>\n",
       "      <td>Hard to clean!</td>\n",
       "      <td>I agree with everyone else who says this chair...</td>\n",
       "    </tr>\n",
       "    <tr>\n",
       "      <th>2999998</th>\n",
       "      <td>1</td>\n",
       "      <td>what is it saying?</td>\n",
       "      <td>not sure what this book is supposed to be. It ...</td>\n",
       "    </tr>\n",
       "  </tbody>\n",
       "</table>\n",
       "<p>2999999 rows × 3 columns</p>\n",
       "</div>"
      ],
      "text/plain": [
       "         Rating                                  Title  \\\n",
       "0             5                              Inspiring   \n",
       "1             5  The best soundtrack ever to anything.   \n",
       "2             4                       Chrono Cross OST   \n",
       "3             5                    Too good to be true   \n",
       "4             5         There's a reason for the price   \n",
       "...         ...                                    ...   \n",
       "2999994       1                          Don't do it!!   \n",
       "2999995       2          Looks nice, low functionality   \n",
       "2999996       2             compact, but hard to clean   \n",
       "2999997       3                         Hard to clean!   \n",
       "2999998       1                     what is it saying?   \n",
       "\n",
       "                                                    Review  \n",
       "0        I hope a lot of people hear this cd. We need m...  \n",
       "1        I'm reading a lot of reviews saying that this ...  \n",
       "2        The music of Yasunori Misuda is without questi...  \n",
       "3        Probably the greatest soundtrack in history! U...  \n",
       "4        There's a reason this CD is so expensive, even...  \n",
       "...                                                    ...  \n",
       "2999994  The high chair looks great when it first comes...  \n",
       "2999995  I have used this highchair for 2 kids now and ...  \n",
       "2999996  We have a small house, and really wanted two o...  \n",
       "2999997  I agree with everyone else who says this chair...  \n",
       "2999998  not sure what this book is supposed to be. It ...  \n",
       "\n",
       "[2999999 rows x 3 columns]"
      ]
     },
     "execution_count": 6,
     "metadata": {},
     "output_type": "execute_result"
    }
   ],
   "source": [
    "df"
   ]
  },
  {
   "cell_type": "code",
   "execution_count": 7,
   "id": "3616b43d",
   "metadata": {},
   "outputs": [
    {
     "data": {
      "text/plain": [
       "(2999999, 3)"
      ]
     },
     "execution_count": 7,
     "metadata": {},
     "output_type": "execute_result"
    }
   ],
   "source": [
    "df.shape"
   ]
  },
  {
   "cell_type": "code",
   "execution_count": 8,
   "id": "6e12c916",
   "metadata": {},
   "outputs": [
    {
     "name": "stdout",
     "output_type": "stream",
     "text": [
      "number of duplicate rows (0, 3)\n"
     ]
    }
   ],
   "source": [
    "duplicate_rows_df = df[df.duplicated()]\n",
    "print('number of duplicate rows', duplicate_rows_df.shape)"
   ]
  },
  {
   "cell_type": "code",
   "execution_count": 9,
   "id": "574faaeb",
   "metadata": {},
   "outputs": [
    {
     "data": {
      "text/plain": [
       "Rating     0\n",
       "Title     76\n",
       "Review     0\n",
       "dtype: int64"
      ]
     },
     "execution_count": 9,
     "metadata": {},
     "output_type": "execute_result"
    }
   ],
   "source": [
    "df.isnull().sum()"
   ]
  },
  {
   "cell_type": "code",
   "execution_count": 10,
   "id": "4cae3d5f",
   "metadata": {},
   "outputs": [],
   "source": [
    "df=df.dropna()"
   ]
  },
  {
   "cell_type": "code",
   "execution_count": 11,
   "id": "3d65a982",
   "metadata": {},
   "outputs": [
    {
     "data": {
      "text/plain": [
       "Rating    0\n",
       "Title     0\n",
       "Review    0\n",
       "dtype: int64"
      ]
     },
     "execution_count": 11,
     "metadata": {},
     "output_type": "execute_result"
    }
   ],
   "source": [
    "df.isnull().sum()"
   ]
  },
  {
   "cell_type": "code",
   "execution_count": 12,
   "id": "37b16605",
   "metadata": {},
   "outputs": [
    {
     "name": "stdout",
     "output_type": "stream",
     "text": [
      "<class 'pandas.core.frame.DataFrame'>\n",
      "Int64Index: 2999923 entries, 0 to 2999998\n",
      "Data columns (total 3 columns):\n",
      " #   Column  Dtype \n",
      "---  ------  ----- \n",
      " 0   Rating  int64 \n",
      " 1   Title   object\n",
      " 2   Review  object\n",
      "dtypes: int64(1), object(2)\n",
      "memory usage: 91.6+ MB\n"
     ]
    }
   ],
   "source": [
    "df.info()"
   ]
  },
  {
   "cell_type": "code",
   "execution_count": 13,
   "id": "f0dca856",
   "metadata": {},
   "outputs": [
    {
     "data": {
      "text/plain": [
       "<Axes: xlabel='Rating'>"
      ]
     },
     "execution_count": 13,
     "metadata": {},
     "output_type": "execute_result"
    },
    {
     "data": {
      "image/png": "[encoded data removed]",
      "text/plain": [
       "<Figure size 640x480 with 1 Axes>"
      ]
     },
     "metadata": {},
     "output_type": "display_data"
    }
   ],
   "source": [
    "sns.boxplot(data=df, x=\"Rating\")"
   ]
  },
  {
   "cell_type": "code",
   "execution_count": 14,
   "id": "15942502",
   "metadata": {},
   "outputs": [
    {
     "data": {
      "text/html": [
       "<div>\n",
       "<style scoped>\n",
       "    .dataframe tbody tr th:only-of-type {\n",
       "        vertical-align: middle;\n",
       "    }\n",
       "\n",
       "    .dataframe tbody tr th {\n",
       "        vertical-align: top;\n",
       "    }\n",
       "\n",
       "    .dataframe thead th {\n",
       "        text-align: right;\n",
       "    }\n",
       "</style>\n",
       "<table border=\"1\" class=\"dataframe\">\n",
       "  <thead>\n",
       "    <tr style=\"text-align: right;\">\n",
       "      <th></th>\n",
       "      <th>Rating</th>\n",
       "    </tr>\n",
       "  </thead>\n",
       "  <tbody>\n",
       "    <tr>\n",
       "      <th>count</th>\n",
       "      <td>2.999923e+06</td>\n",
       "    </tr>\n",
       "    <tr>\n",
       "      <th>mean</th>\n",
       "      <td>3.000008e+00</td>\n",
       "    </tr>\n",
       "    <tr>\n",
       "      <th>std</th>\n",
       "      <td>1.414220e+00</td>\n",
       "    </tr>\n",
       "    <tr>\n",
       "      <th>min</th>\n",
       "      <td>1.000000e+00</td>\n",
       "    </tr>\n",
       "    <tr>\n",
       "      <th>25%</th>\n",
       "      <td>2.000000e+00</td>\n",
       "    </tr>\n",
       "    <tr>\n",
       "      <th>50%</th>\n",
       "      <td>3.000000e+00</td>\n",
       "    </tr>\n",
       "    <tr>\n",
       "      <th>75%</th>\n",
       "      <td>4.000000e+00</td>\n",
       "    </tr>\n",
       "    <tr>\n",
       "      <th>max</th>\n",
       "      <td>5.000000e+00</td>\n",
       "    </tr>\n",
       "  </tbody>\n",
       "</table>\n",
       "</div>"
      ],
      "text/plain": [
       "             Rating\n",
       "count  2.999923e+06\n",
       "mean   3.000008e+00\n",
       "std    1.414220e+00\n",
       "min    1.000000e+00\n",
       "25%    2.000000e+00\n",
       "50%    3.000000e+00\n",
       "75%    4.000000e+00\n",
       "max    5.000000e+00"
      ]
     },
     "execution_count": 14,
     "metadata": {},
     "output_type": "execute_result"
    }
   ],
   "source": [
    "df.describe()"
   ]
  },
  {
   "cell_type": "code",
   "execution_count": 32,
   "id": "a84c59cf",
   "metadata": {},
   "outputs": [
    {
     "data": {
      "text/plain": [
       "<Axes: xlabel='Rating', ylabel='count'>"
      ]
     },
     "execution_count": 32,
     "metadata": {},
     "output_type": "execute_result"
    },
    {
     "data": {
      "image/png": "[encoded data removed]",
      "text/plain": [
       "<Figure size 800x600 with 1 Axes>"
      ]
     },
     "metadata": {},
     "output_type": "display_data"
    }
   ],
   "source": [
    "plt.figure(figsize=(8, 6))\n",
    "sns.countplot(x='Rating', data=df, color='green')"
   ]
  },
  {
   "cell_type": "code",
   "execution_count": 16,
   "id": "8bf29297",
   "metadata": {},
   "outputs": [
    {
     "name": "stderr",
     "output_type": "stream",
     "text": [
      "/var/folders/qd/zln2cqhs3972ntg4tzx06y7w0000gn/T/ipykernel_10474/587298103.py:2: SettingWithCopyWarning: \n",
      "A value is trying to be set on a copy of a slice from a DataFrame.\n",
      "Try using .loc[row_indexer,col_indexer] = value instead\n",
      "\n",
      "See the caveats in the documentation: https://pandas.pydata.org/pandas-docs/stable/user_guide/indexing.html#returning-a-view-versus-a-copy\n",
      "  df['text_length'] = df['Review'].apply(lambda x: len(str(x)))\n"
     ]
    },
    {
     "data": {
      "image/png": "[encoded data removed]",
      "text/plain": [
       "<Figure size 1000x600 with 1 Axes>"
      ]
     },
     "metadata": {},
     "output_type": "display_data"
    }
   ],
   "source": [
    "#The length of review text\n",
    "df['text_length'] = df['Review'].apply(lambda x: len(str(x)))\n",
    "plt.figure(figsize=(10, 6))\n",
    "sns.histplot(df['text_length'], bins=50, kde=True)\n",
    "plt.title('Number of words in Review')\n",
    "plt.xlabel('Number of words')\n",
    "plt.ylabel('Frequency')\n",
    "plt.show()"
   ]
  },
  {
   "cell_type": "code",
   "execution_count": 17,
   "id": "cd6385ab",
   "metadata": {},
   "outputs": [],
   "source": [
    "# Function to clean the text\n",
    "def clean_text(text):\n",
    "    text = text.translate(str.maketrans('', '', string.punctuation))\n",
    "    text = re.sub(r'\\d+', '', text)\n",
    "    text = text.lower()\n",
    "    return text"
   ]
  },
  {
   "cell_type": "code",
   "execution_count": 18,
   "id": "5715e029",
   "metadata": {},
   "outputs": [
    {
     "name": "stderr",
     "output_type": "stream",
     "text": [
      "/var/folders/qd/zln2cqhs3972ntg4tzx06y7w0000gn/T/ipykernel_10474/1955788597.py:1: SettingWithCopyWarning: \n",
      "A value is trying to be set on a copy of a slice from a DataFrame.\n",
      "Try using .loc[row_indexer,col_indexer] = value instead\n",
      "\n",
      "See the caveats in the documentation: https://pandas.pydata.org/pandas-docs/stable/user_guide/indexing.html#returning-a-view-versus-a-copy\n",
      "  df['clean_text'] = df['Review'].apply(clean_text)\n"
     ]
    }
   ],
   "source": [
    "df['clean_text'] = df['Review'].apply(clean_text)"
   ]
  },
  {
   "cell_type": "code",
   "execution_count": 19,
   "id": "0624f608",
   "metadata": {},
   "outputs": [],
   "source": [
    "# Function for tokenization\n",
    "def tokenize_text(text):\n",
    "    tokens = word_tokenize(text)\n",
    "    return tokens"
   ]
  },
  {
   "cell_type": "code",
   "execution_count": 20,
   "id": "43adbfe4",
   "metadata": {},
   "outputs": [
    {
     "name": "stderr",
     "output_type": "stream",
     "text": [
      "/var/folders/qd/zln2cqhs3972ntg4tzx06y7w0000gn/T/ipykernel_10474/762440392.py:1: SettingWithCopyWarning: \n",
      "A value is trying to be set on a copy of a slice from a DataFrame.\n",
      "Try using .loc[row_indexer,col_indexer] = value instead\n",
      "\n",
      "See the caveats in the documentation: https://pandas.pydata.org/pandas-docs/stable/user_guide/indexing.html#returning-a-view-versus-a-copy\n",
      "  df['tokens'] = df['clean_text'].apply(tokenize_text)\n"
     ]
    }
   ],
   "source": [
    "df['tokens'] = df['clean_text'].apply(tokenize_text)"
   ]
  },
  {
   "cell_type": "code",
   "execution_count": 21,
   "id": "f4446d52",
   "metadata": {},
   "outputs": [],
   "source": [
    "# Function for removing stopwords\n",
    "def remove_stopwords(tokens):\n",
    "    stop_words = set(stopwords.words('english'))\n",
    "    filtered_tokens = [token for token in tokens if token not in stop_words]\n",
    "    return filtered_tokens"
   ]
  },
  {
   "cell_type": "code",
   "execution_count": 22,
   "id": "831ea499",
   "metadata": {},
   "outputs": [
    {
     "name": "stderr",
     "output_type": "stream",
     "text": [
      "/var/folders/qd/zln2cqhs3972ntg4tzx06y7w0000gn/T/ipykernel_10474/4112168760.py:1: SettingWithCopyWarning: \n",
      "A value is trying to be set on a copy of a slice from a DataFrame.\n",
      "Try using .loc[row_indexer,col_indexer] = value instead\n",
      "\n",
      "See the caveats in the documentation: https://pandas.pydata.org/pandas-docs/stable/user_guide/indexing.html#returning-a-view-versus-a-copy\n",
      "  df['tokens'] = df['tokens'].apply(remove_stopwords)\n"
     ]
    }
   ],
   "source": [
    "df['tokens'] = df['tokens'].apply(remove_stopwords)"
   ]
  },
  {
   "cell_type": "code",
   "execution_count": 23,
   "id": "e65f766c",
   "metadata": {},
   "outputs": [],
   "source": [
    "# Function for stemming\n",
    "def stem_text(tokens):\n",
    "    stemmer = PorterStemmer()\n",
    "    stemmed_tokens = [stemmer.stem(token) for token in tokens]\n",
    "    return stemmed_tokens"
   ]
  },
  {
   "cell_type": "code",
   "execution_count": 24,
   "id": "3c78ec47",
   "metadata": {},
   "outputs": [
    {
     "name": "stderr",
     "output_type": "stream",
     "text": [
      "/var/folders/qd/zln2cqhs3972ntg4tzx06y7w0000gn/T/ipykernel_10474/3972625258.py:1: SettingWithCopyWarning: \n",
      "A value is trying to be set on a copy of a slice from a DataFrame.\n",
      "Try using .loc[row_indexer,col_indexer] = value instead\n",
      "\n",
      "See the caveats in the documentation: https://pandas.pydata.org/pandas-docs/stable/user_guide/indexing.html#returning-a-view-versus-a-copy\n",
      "  df['tokens'] = df['tokens'].apply(stem_text)\n"
     ]
    }
   ],
   "source": [
    "df['tokens'] = df['tokens'].apply(stem_text)"
   ]
  },
  {
   "cell_type": "code",
   "execution_count": 25,
   "id": "3cefdaad",
   "metadata": {},
   "outputs": [
    {
     "name": "stdout",
     "output_type": "stream",
     "text": [
      "                                              Review  \\\n",
      "0  I hope a lot of people hear this cd. We need m...   \n",
      "1  I'm reading a lot of reviews saying that this ...   \n",
      "2  The music of Yasunori Misuda is without questi...   \n",
      "3  Probably the greatest soundtrack in history! U...   \n",
      "4  There's a reason this CD is so expensive, even...   \n",
      "\n",
      "                                          clean_text  \\\n",
      "0  i hope a lot of people hear this cd we need mo...   \n",
      "1  im reading a lot of reviews saying that this i...   \n",
      "2  the music of yasunori misuda is without questi...   \n",
      "3  probably the greatest soundtrack in history us...   \n",
      "4  theres a reason this cd is so expensive even t...   \n",
      "\n",
      "                                              tokens  \n",
      "0  [hope, lot, peopl, hear, cd, need, strong, pos...  \n",
      "1  [im, read, lot, review, say, best, game, sound...  \n",
      "2  [music, yasunori, misuda, without, question, c...  \n",
      "3  [probabl, greatest, soundtrack, histori, usual...  \n",
      "4  [there, reason, cd, expens, even, version, tha...  \n"
     ]
    }
   ],
   "source": [
    "print(df[['Review', 'clean_text', 'tokens']].head())"
   ]
  },
  {
   "cell_type": "code",
   "execution_count": 27,
   "id": "f132e0b4",
   "metadata": {},
   "outputs": [],
   "source": [
    "data = {\n",
    "    'Original Text': df['Review'],\n",
    "    'Cleaned Text': df['clean_text']  \n",
    "}"
   ]
  },
  {
   "cell_type": "code",
   "execution_count": 28,
   "id": "c2dd47c8",
   "metadata": {},
   "outputs": [
    {
     "data": {
      "text/html": [
       "<div>\n",
       "<style scoped>\n",
       "    .dataframe tbody tr th:only-of-type {\n",
       "        vertical-align: middle;\n",
       "    }\n",
       "\n",
       "    .dataframe tbody tr th {\n",
       "        vertical-align: top;\n",
       "    }\n",
       "\n",
       "    .dataframe thead th {\n",
       "        text-align: right;\n",
       "    }\n",
       "</style>\n",
       "<table border=\"1\" class=\"dataframe\">\n",
       "  <thead>\n",
       "    <tr style=\"text-align: right;\">\n",
       "      <th></th>\n",
       "      <th>Original Text</th>\n",
       "      <th>Cleaned Text</th>\n",
       "    </tr>\n",
       "  </thead>\n",
       "  <tbody>\n",
       "    <tr>\n",
       "      <th>0</th>\n",
       "      <td>I hope a lot of people hear this cd. We need m...</td>\n",
       "      <td>i hope a lot of people hear this cd we need mo...</td>\n",
       "    </tr>\n",
       "    <tr>\n",
       "      <th>1</th>\n",
       "      <td>I'm reading a lot of reviews saying that this ...</td>\n",
       "      <td>im reading a lot of reviews saying that this i...</td>\n",
       "    </tr>\n",
       "    <tr>\n",
       "      <th>2</th>\n",
       "      <td>The music of Yasunori Misuda is without questi...</td>\n",
       "      <td>the music of yasunori misuda is without questi...</td>\n",
       "    </tr>\n",
       "    <tr>\n",
       "      <th>3</th>\n",
       "      <td>Probably the greatest soundtrack in history! U...</td>\n",
       "      <td>probably the greatest soundtrack in history us...</td>\n",
       "    </tr>\n",
       "    <tr>\n",
       "      <th>4</th>\n",
       "      <td>There's a reason this CD is so expensive, even...</td>\n",
       "      <td>theres a reason this cd is so expensive even t...</td>\n",
       "    </tr>\n",
       "    <tr>\n",
       "      <th>...</th>\n",
       "      <td>...</td>\n",
       "      <td>...</td>\n",
       "    </tr>\n",
       "    <tr>\n",
       "      <th>2999994</th>\n",
       "      <td>The high chair looks great when it first comes...</td>\n",
       "      <td>the high chair looks great when it first comes...</td>\n",
       "    </tr>\n",
       "    <tr>\n",
       "      <th>2999995</th>\n",
       "      <td>I have used this highchair for 2 kids now and ...</td>\n",
       "      <td>i have used this highchair for  kids now and f...</td>\n",
       "    </tr>\n",
       "    <tr>\n",
       "      <th>2999996</th>\n",
       "      <td>We have a small house, and really wanted two o...</td>\n",
       "      <td>we have a small house and really wanted two of...</td>\n",
       "    </tr>\n",
       "    <tr>\n",
       "      <th>2999997</th>\n",
       "      <td>I agree with everyone else who says this chair...</td>\n",
       "      <td>i agree with everyone else who says this chair...</td>\n",
       "    </tr>\n",
       "    <tr>\n",
       "      <th>2999998</th>\n",
       "      <td>not sure what this book is supposed to be. It ...</td>\n",
       "      <td>not sure what this book is supposed to be it i...</td>\n",
       "    </tr>\n",
       "  </tbody>\n",
       "</table>\n",
       "<p>2999923 rows × 2 columns</p>\n",
       "</div>"
      ],
      "text/plain": [
       "                                             Original Text  \\\n",
       "0        I hope a lot of people hear this cd. We need m...   \n",
       "1        I'm reading a lot of reviews saying that this ...   \n",
       "2        The music of Yasunori Misuda is without questi...   \n",
       "3        Probably the greatest soundtrack in history! U...   \n",
       "4        There's a reason this CD is so expensive, even...   \n",
       "...                                                    ...   \n",
       "2999994  The high chair looks great when it first comes...   \n",
       "2999995  I have used this highchair for 2 kids now and ...   \n",
       "2999996  We have a small house, and really wanted two o...   \n",
       "2999997  I agree with everyone else who says this chair...   \n",
       "2999998  not sure what this book is supposed to be. It ...   \n",
       "\n",
       "                                              Cleaned Text  \n",
       "0        i hope a lot of people hear this cd we need mo...  \n",
       "1        im reading a lot of reviews saying that this i...  \n",
       "2        the music of yasunori misuda is without questi...  \n",
       "3        probably the greatest soundtrack in history us...  \n",
       "4        theres a reason this cd is so expensive even t...  \n",
       "...                                                    ...  \n",
       "2999994  the high chair looks great when it first comes...  \n",
       "2999995  i have used this highchair for  kids now and f...  \n",
       "2999996  we have a small house and really wanted two of...  \n",
       "2999997  i agree with everyone else who says this chair...  \n",
       "2999998  not sure what this book is supposed to be it i...  \n",
       "\n",
       "[2999923 rows x 2 columns]"
      ]
     },
     "execution_count": 28,
     "metadata": {},
     "output_type": "execute_result"
    }
   ],
   "source": [
    "df_display = pd.DataFrame(data)\n",
    "df_display"
   ]
  },
  {
   "cell_type": "code",
   "execution_count": null,
   "id": "6f6063b7",
   "metadata": {},
   "outputs": [],
   "source": []
  }
 ],
 "metadata": {
  "kernelspec": {
   "display_name": "Python 3 (ipykernel)",
   "language": "python",
   "name": "python3"
  },
  "language_info": {
   "codemirror_mode": {
    "name": "ipython",
    "version": 3
   },
   "file_extension": ".py",
   "mimetype": "text/x-python",
   "name": "python",
   "nbconvert_exporter": "python",
   "pygments_lexer": "ipython3",
   "version": "3.11.4"
  }
 },
 "nbformat": 4,
 "nbformat_minor": 5
}
